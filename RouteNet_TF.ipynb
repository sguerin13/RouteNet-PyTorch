{
 "cells": [
  {
   "cell_type": "code",
   "execution_count": 1,
   "id": "found-scoop",
   "metadata": {},
   "outputs": [],
   "source": [
    "from __future__ import print_function\n",
    "import tensorflow as tf\n",
    "import numpy as np\n",
    "from read_dataset import generator\n",
    "import os\n",
    "tr_path = os.getcwd() + \"\\\\..\\\\data\\\\sample_data\\\\train\\\\\""
   ]
  },
  {
   "cell_type": "code",
   "execution_count": 2,
   "id": "certified-shaft",
   "metadata": {
    "collapsed": true
   },
   "outputs": [
    {
     "name": "stdout",
     "output_type": "stream",
     "text": [
      "[[None 10000 10000 10000 None None None None None None None None None\n",
      "  None]\n",
      " [10000 None 10000 None None None None 10000 None None None None None\n",
      "  None]\n",
      " [10000 10000 None None None 25000 None None None None None None None\n",
      "  None]\n",
      " [10000 None None None 25000 None None None 25000 None None None None\n",
      "  None]\n",
      " [None None None 25000 None 25000 10000 None None None None None None\n",
      "  None]\n",
      " [None None 25000 None 25000 None None None None None None None 10000\n",
      "  10000]\n",
      " [None None None None 10000 None None 10000 None None None None None None]\n",
      " [None 10000 None None None None 10000 None None None 25000 None None\n",
      "  None]\n",
      " [None None None 25000 None None None None None 10000 None 10000 None\n",
      "  None]\n",
      " [None None None None None None None None 10000 None 10000 None 10000\n",
      "  None]\n",
      " [None None None None None None None 25000 None 10000 None 10000 None\n",
      "  10000]\n",
      " [None None None None None None None None 10000 None 10000 None 10000\n",
      "  None]\n",
      " [None None None None None 10000 None None None 10000 None 10000 None\n",
      "  None]\n",
      " [None None None None None 10000 None None None None 10000 None None None]]\n",
      "(14, 14)\n"
     ]
    }
   ],
   "source": [
    "for batch, delay in generator(tr_path):\n",
    "    x = batch\n",
    "    y = delay\n",
    "    break"
   ]
  },
  {
   "cell_type": "code",
   "execution_count": 3,
   "id": "removed-revelation",
   "metadata": {},
   "outputs": [
    {
     "data": {
      "text/plain": [
       "['../code/config.ini']"
      ]
     },
     "execution_count": 3,
     "metadata": {},
     "output_type": "execute_result"
    }
   ],
   "source": [
    "import configparser\n",
    "config = configparser.ConfigParser()\n",
    "config._interpolation = configparser.ExtendedInterpolation()\n",
    "config.read('../code/config.ini')"
   ]
  },
  {
   "cell_type": "code",
   "execution_count": 11,
   "id": "optical-association",
   "metadata": {},
   "outputs": [
    {
     "data": {
      "text/plain": [
       "TensorShape([42, 1])"
      ]
     },
     "execution_count": 11,
     "metadata": {},
     "output_type": "execute_result"
    }
   ],
   "source": [
    "len(x['link_capacity'])\n",
    "xx = tf.expand_dims(x['link_capacity'], axis=1)\n",
    "xx.shape"
   ]
  },
  {
   "cell_type": "markdown",
   "id": "painted-madison",
   "metadata": {},
   "source": [
    "### Explanation of some of the matrix manipulation done inside the model ###"
   ]
  },
  {
   "cell_type": "code",
   "execution_count": 58,
   "id": "physical-gallery",
   "metadata": {},
   "outputs": [
    {
     "name": "stdout",
     "output_type": "stream",
     "text": [
      "[[[1 2 3]]\n",
      "\n",
      " [[1 2 3]]\n",
      "\n",
      " [[1 2 3]]]\n",
      "\n",
      "\n",
      "\n",
      "tf.Tensor([42 31], shape=(2,), dtype=int32) \n",
      "\n",
      "Link state dims:  (42, 32)\n",
      "Path state dims: 182 x 32\n"
     ]
    }
   ],
   "source": [
    "# stack demo\n",
    "a = np.array([[1,2,3]])\n",
    "b = np.array([[1,2,3]])\n",
    "c = np.array([[1,2,3]])\n",
    "\n",
    "print(np.stack((a,b,c),axis = 0))\n",
    "print(\"\\n\\n\")\n",
    "shape = tf.stack([\n",
    "    x['n_links'],\n",
    "    int(config['HYPERPARAMETERS']['link_state_dim']) - 1\n",
    "], axis=0)\n",
    "\n",
    "print(shape,\"\\n\")\n",
    "link_expanded = tf.expand_dims(x['link_capacity'],axis=1)\n",
    "# print(link_expanded.shape,link_expanded)\n",
    "\n",
    "# need to cast the capacity to floats\n",
    "x['link_capacity'] = tf.cast(x['link_capacity'],dtype = tf.float32)\n",
    "\n",
    "# Initialize the initial hidden state for links\n",
    "# tack the bandwidth to the last column\n",
    "link_state = tf.concat([\n",
    "    tf.expand_dims(x['link_capacity'], axis=1),\n",
    "    tf.zeros(shape)\n",
    "], axis=1)\n",
    "\n",
    "print(\"Link state dims: \",link_state.shape)\n",
    "\n",
    "print(\"Path state dims: 182 x 32\")"
   ]
  },
  {
   "cell_type": "markdown",
   "id": "tutorial-catalog",
   "metadata": {},
   "source": [
    "### WITHIN THE MESSAGE PASSING LOOPS\n",
    "\n",
    "#### TF Gather, grabs specific indices from a list in a specified order"
   ]
  },
  {
   "attachments": {
    "image.png": {
     "image/png": "[encoded data removed]"
    }
   },
   "cell_type": "markdown",
   "id": "executed-independence",
   "metadata": {},
   "source": [
    "![image.png](attachment:image.png)"
   ]
  },
  {
   "cell_type": "code",
   "execution_count": 44,
   "id": "speaking-empire",
   "metadata": {},
   "outputs": [
    {
     "name": "stdout",
     "output_type": "stream",
     "text": [
      "links is a list of the links used along all src-dest paths - lenth:  390 \n",
      " [0, 1, 2, 2, 10, 1, 8, 2, 10, 14] \n",
      "\n",
      "link state dimension is 32 x total number of links in the network - size (n_link,hid_dim) : (42, 32) \n",
      " tf.Tensor(\n",
      "[[10000.     0.     0.     0.     0.     0.     0.     0.     0.     0.]\n",
      " [10000.     0.     0.     0.     0.     0.     0.     0.     0.     0.]\n",
      " [10000.     0.     0.     0.     0.     0.     0.     0.     0.     0.]\n",
      " [10000.     0.     0.     0.     0.     0.     0.     0.     0.     0.]\n",
      " [10000.     0.     0.     0.     0.     0.     0.     0.     0.     0.]\n",
      " [10000.     0.     0.     0.     0.     0.     0.     0.     0.     0.]\n",
      " [10000.     0.     0.     0.     0.     0.     0.     0.     0.     0.]\n",
      " [10000.     0.     0.     0.     0.     0.     0.     0.     0.     0.]\n",
      " [25000.     0.     0.     0.     0.     0.     0.     0.     0.     0.]\n",
      " [10000.     0.     0.     0.     0.     0.     0.     0.     0.     0.]], shape=(10, 10), dtype=float32)\n",
      "\n",
      "\n",
      "The hidden link state after gathering selects all of the links used traversing all of the paths each time a link is used, and grabs that links hidden state\n",
      "H_tild shape:  (390, 32)\n"
     ]
    }
   ],
   "source": [
    "links = x['links']\n",
    "print(\"links is a list of the links used along all src-dest paths - lenth: \",len(links),\"\\n\",links[:10],\"\\n\")\n",
    "\n",
    "\n",
    "print(\"link state dimension is 32 x total number of links in the network - size (n_link,hid_dim) :\",link_state.shape,\"\\n\", link_state[:10,:10])\n",
    "\n",
    "h_tild = tf.gather(link_state,links)\n",
    "print(\"\\n\\nThe hidden link state after gathering selects all of the links used traversing all of the paths each time a link is used, and grabs that links hidden state\")\n",
    "\n",
    "print(\"H_tild shape: \", h_tild.shape)"
   ]
  },
  {
   "cell_type": "code",
   "execution_count": 105,
   "id": "exact-earthquake",
   "metadata": {},
   "outputs": [],
   "source": [
    "## Pytorch implementations\n",
    "t_zero = torch.zeros(x['n_links'],32-1)\n",
    "l_cap_expanded = torch.unsqueeze(torch.tensor(x['link_capacity'].numpy()),axis=1)\n",
    "l_cap_expanded.shape,t_zero\n",
    "link_h_state = torch.cat((l_cap_expanded,t_zero),axis=1)\n",
    "\n",
    "\n",
    "indices = torch.zeros(len(links),32)\n",
    "for i in range(len(links)):\n",
    "    link_id = links[i]\n",
    "    indices[i,:] = link_id\n",
    "\n",
    "t_h = torch.gather(link_h_state,0,indices.long())\n"
   ]
  },
  {
   "cell_type": "code",
   "execution_count": 154,
   "id": "adult-tamil",
   "metadata": {},
   "outputs": [
    {
     "name": "stdout",
     "output_type": "stream",
     "text": [
      "(390, 2)\n",
      "tf.Tensor(3, shape=(), dtype=int32)\n",
      "tf.Tensor([182   3  32], shape=(3,), dtype=int32)\n",
      "length of lens:  182 (182,)\n"
     ]
    },
    {
     "data": {
      "text/plain": [
       "array([25000.,     0.,     0.,     0.,     0.,     0.,     0.,     0.,\n",
       "           0.,     0.,     0.,     0.,     0.,     0.,     0.,     0.,\n",
       "           0.,     0.,     0.,     0.,     0.,     0.,     0.,     0.,\n",
       "           0.,     0.,     0.,     0.,     0.,     0.,     0.,     0.],\n",
       "      dtype=float32)"
      ]
     },
     "execution_count": 154,
     "metadata": {},
     "output_type": "execute_result"
    }
   ],
   "source": [
    "paths = x['paths']\n",
    "seqs = x['sequences']\n",
    "\n",
    "\n",
    "ids = tf.stack([paths, seqs], axis=1)\n",
    "print(ids.shape)\n",
    "\n",
    "# find the longest sequence routing path i.e. most hops for a src-dest pair\n",
    "p_max = tf.reduce_max(paths)\n",
    "max_len = tf.reduce_max(seqs) + 1 \n",
    "print(max_len)\n",
    "\n",
    "\n",
    "# matrix for the paths x max seq x path state dim\n",
    "shape = tf.stack([\n",
    "    x['n_paths'],\n",
    "    max_len,\n",
    "    int(config['HYPERPARAMETERS']['link_state_dim'])])\n",
    "\n",
    "print(shape)\n",
    "\n",
    "# ones_like makes a tensor the same shape of paths [1,1,1 ..... 1] - 390 length\n",
    "# sum up over the the elements that share the same paths i.e [0,0,1,1,2,2,2] = [2,2,3]\n",
    "# creates a list of path lengths\n",
    "lens = tf.math.segment_sum(data=tf.ones_like(paths),\n",
    "                                       segment_ids=paths)\n",
    "print(\"length of lens: \",len(lens),lens.shape)\n",
    "\n",
    "\n",
    "# Generate the aforementioned tensor [n_paths, max_len_path, dimension_link]\n",
    "# [390 x 2], [390 x 32], [182,3,32]\n",
    "# [indices], [updates], shape\n",
    "# (path_id,seq_id) pair moves the hidden state vector to the path_id,seq_id element of link inputs, which is shape 'shape'\n",
    "link_inputs = tf.scatter_nd(ids, h_tild, shape)\n",
    "link_inputs[3,1].numpy()"
   ]
  },
  {
   "cell_type": "code",
   "execution_count": 149,
   "id": "funky-tactics",
   "metadata": {},
   "outputs": [
    {
     "name": "stdout",
     "output_type": "stream",
     "text": [
      "torch.Size([390, 1])\n",
      "torch.Size([182, 1])\n",
      "torch.Size([390, 2, 1])\n"
     ]
    },
    {
     "data": {
      "text/plain": [
       "tensor([25000.,     0.,     0.,     0.,     0.,     0.,     0.,     0.,     0.,\n",
       "            0.,     0.,     0.,     0.,     0.,     0.,     0.,     0.,     0.,\n",
       "            0.,     0.,     0.,     0.,     0.,     0.,     0.,     0.,     0.,\n",
       "            0.,     0.,     0.,     0.,     0.])"
      ]
     },
     "execution_count": 149,
     "metadata": {},
     "output_type": "execute_result"
    }
   ],
   "source": [
    "### Pytorch implementation\n",
    "paths = torch.tensor(x['paths'])\n",
    "seqs = torch.tensor(x['sequences'])\n",
    "ids = torch.stack((paths,seqs),axis = 1)\n",
    "ids.shape\n",
    "scatter_src = torch.unsqueeze(torch.ones_like(paths),1)\n",
    "print(scatter_src.shape)\n",
    "lens = torch.zeros(x['n_paths'],1).long()\n",
    "print(lens.shape)\n",
    "\n",
    "lens = lens.scatter_add_(dim = 0, src = scatter_src,\n",
    "                           index=torch.unsqueeze(paths,1))\n",
    "lens.shape\n",
    "\n",
    "print(ids.unsqueeze(2).shape)\n",
    "\n",
    "# pytorch equivalent of scatter_nd -> index_add\n",
    "path_rnn_input = torch.zeros((x['n_paths'],3,32))\n",
    "for i in range(ids.shape[0]):\n",
    "    p_ind = ids[i,0]\n",
    "    s_ind = ids[i,1]\n",
    "    path_rnn_input[p_ind,s_ind,:] = t_h[i]\n",
    "\n",
    "\n",
    "path_rnn_input[3,1]\n"
   ]
  },
  {
   "cell_type": "code",
   "execution_count": 193,
   "id": "suitable-proportion",
   "metadata": {},
   "outputs": [],
   "source": [
    "### testing the link update aggregation\n",
    "Path_RNN_Hidden_States = torch.ones((182,3,32))\n",
    "link_messages = torch.zeros((len(links),32))\n",
    "for i in range(ids.shape[0]):\n",
    "    p_ind = int(ids[i,0])\n",
    "    s_ind = int(ids[i,1])\n",
    "    link_messages[i] = Path_RNN_Hidden_States[p_ind,s_ind,:]\n",
    "\n",
    "# aggregate the messages\n",
    "# aggregated link message is size (n_links x link state dim)\n",
    "# aggregated along rows based on link index in the links vector\n",
    "aggregated_link_message = torch.zeros((x['n_links'],32))\n",
    "_ = aggregated_link_message.scatter_add_(0,torch.tensor(links).unsqueeze(1),link_messages)"
   ]
  },
  {
   "cell_type": "code",
   "execution_count": 194,
   "id": "needed-flavor",
   "metadata": {},
   "outputs": [
    {
     "data": {
      "text/plain": [
       "tensor([[ 5.,  0.,  0.,  ...,  0.,  0.,  0.],\n",
       "        [ 6.,  0.,  0.,  ...,  0.,  0.,  0.],\n",
       "        [12.,  0.,  0.,  ...,  0.,  0.,  0.],\n",
       "        ...,\n",
       "        [ 4.,  0.,  0.,  ...,  0.,  0.,  0.],\n",
       "        [10.,  0.,  0.,  ...,  0.,  0.,  0.],\n",
       "        [11.,  0.,  0.,  ...,  0.,  0.,  0.]])"
      ]
     },
     "execution_count": 194,
     "metadata": {},
     "output_type": "execute_result"
    }
   ],
   "source": [
    "aggregated_link_message"
   ]
  },
  {
   "cell_type": "code",
   "execution_count": 177,
   "id": "least-language",
   "metadata": {},
   "outputs": [
    {
     "name": "stdout",
     "output_type": "stream",
     "text": [
      "0\n"
     ]
    }
   ],
   "source": [
    "print(int(ids[0,0]))"
   ]
  },
  {
   "cell_type": "markdown",
   "id": "peripheral-component",
   "metadata": {},
   "source": [
    "#### The path updating RNN outputs the entire hidden state sequences, which are the messages from the path that are used to update the links. These messages from the paths are aggregated for each link and then the link runs through an RNN\n"
   ]
  },
  {
   "cell_type": "code",
   "execution_count": null,
   "id": "designing-adventure",
   "metadata": {},
   "outputs": [],
   "source": [
    "# For every link, gather and sum the sequence of hidden states of the paths that contain it\n",
    "                #(182,32) (390,2)\n",
    "m = tf.gather_nd(outputs, ids)\n",
    "m = tf.math.unsorted_segment_sum(m, links, f_['n_links'])\n"
   ]
  },
  {
   "cell_type": "code",
   "execution_count": 163,
   "id": "intended-latin",
   "metadata": {},
   "outputs": [],
   "source": [
    "\n",
    "class RouteNetModel(tf.keras.Model):\n",
    "    \"\"\" Init method for the custom model.\n",
    "\n",
    "    Args:\n",
    "        config (dict): Python dictionary containing the diferent configurations\n",
    "                       and hyperparameters.\n",
    "        output_units (int): Output units for the last readout's layer.\n",
    "\n",
    "    Attributes:\n",
    "        config (dict): Python dictionary containing the diferent configurations\n",
    "                       and hyperparameters.\n",
    "        link_update (GRUCell): Link GRU Cell used in the Message Passing step.\n",
    "        path_update (GRUCell): Path GRU Cell used in the Message Passing step.\n",
    "        readout (Keras Model): Readout Neural Network. It expects as input the\n",
    "                               path states and outputs the per-path delay.\n",
    "    \"\"\"\n",
    "\n",
    "    def __init__(self, config, output_units=1):\n",
    "        super(RouteNetModel, self).__init__()\n",
    "\n",
    "        # Configuration dictionary. It contains the needed Hyperparameters for the model.\n",
    "        # All the Hyperparameters can be found in the config.ini file\n",
    "        self.config = config\n",
    "\n",
    "        # GRU Cells used in the Message Passing step\n",
    "        self.link_update = tf.keras.layers.GRUCell(int(self.config['HYPERPARAMETERS']['link_state_dim']))\n",
    "        self.path_update = tf.keras.layers.GRUCell(int(self.config['HYPERPARAMETERS']['path_state_dim']))\n",
    "\n",
    "        # Readout Neural Network. It expects as input the path states and outputs the per-path delay\n",
    "        self.readout = tf.keras.Sequential([\n",
    "            tf.keras.layers.Input(shape=int(self.config['HYPERPARAMETERS']['path_state_dim'])),\n",
    "            tf.keras.layers.Dense(int(self.config['HYPERPARAMETERS']['readout_units']),\n",
    "                                  activation=tf.nn.selu,\n",
    "                                  kernel_regularizer=tf.keras.regularizers.l2(\n",
    "                                      float(self.config['HYPERPARAMETERS']['l2'])),\n",
    "                                  ),\n",
    "            tf.keras.layers.Dense(int(self.config['HYPERPARAMETERS']['readout_units']),\n",
    "                                  activation=tf.nn.relu,\n",
    "                                  kernel_regularizer=tf.keras.regularizers.l2(\n",
    "                                      float(self.config['HYPERPARAMETERS']['l2']))),\n",
    "            tf.keras.layers.Dense(output_units,\n",
    "                                  kernel_regularizer=tf.keras.regularizers.l2(\n",
    "                                      float(self.config['HYPERPARAMETERS']['l2_2'])))\n",
    "                                            ])\n",
    "        \n",
    "    def call(self, inputs, training=False):\n",
    "        \"\"\"This function is execution each time the model is called\n",
    "\n",
    "        Args:\n",
    "            inputs (dict): Features used to make the predictions.\n",
    "            training (bool): Whether the model is training or not. If False, the\n",
    "                             model does not update the weights.\n",
    "\n",
    "        Returns:\n",
    "            tensor: A tensor containing the per-path delay.\n",
    "        \"\"\"\n",
    "\n",
    "        f_ = inputs\n",
    "\n",
    "        links = f_['links']                  # (1 x sum of the links along all the paths)          \n",
    "        paths = f_['paths']                  # (1 x sum of the links along all the paths)\n",
    "        seqs = f_['sequences']               # (1 x sum of the links along all the paths)\n",
    "\n",
    "        # Compute the shape for the  all-zero tensor for link_state\n",
    "        # shape\n",
    "        shape = tf.stack([\n",
    "            f_['n_links'],\n",
    "            int(self.config['HYPERPARAMETERS']['link_state_dim']) - 1\n",
    "        ], axis=0)\n",
    "\n",
    "        # Initialize the initial hidden state for links\n",
    "        link_state = tf.concat([\n",
    "            tf.expand_dims(f_['link_capacity'], axis=1),\n",
    "            tf.zeros(shape)\n",
    "        ], axis=1)\n",
    "\n",
    "        # Compute the shape for the  all-zero tensor for path_state\n",
    "        shape = tf.stack([\n",
    "            f_['n_paths'],\n",
    "            int(self.config['HYPERPARAMETERS']['path_state_dim']) - 1\n",
    "        ], axis=0)\n",
    "\n",
    "        # Initialize the initial hidden state for paths\n",
    "        path_state = tf.concat([\n",
    "            tf.expand_dims(f_['bandwith'], axis=1),\n",
    "            tf.zeros(shape)\n",
    "        ], axis=1)\n",
    "\n",
    "        # Iterate t times doing the message passing\n",
    "        for _ in range(int(self.config['HYPERPARAMETERS']['t'])):\n",
    "\n",
    "            # The following lines generate a tensor of dimensions [n_paths, max_len_path, dimension_link] with all 0\n",
    "            # but the link hidden states\n",
    "            h_tild = tf.gather(link_state, links)\n",
    "\n",
    "            #(182,3,32) 182 paths by max link length 3 x (hidden dim of links)\n",
    "            ids = tf.stack([paths, seqs], axis=1)\n",
    "            max_len = tf.reduce_max(seqs) + 1\n",
    "            shape = tf.stack([\n",
    "                f_['n_paths'],\n",
    "                max_len,\n",
    "                int(self.config['HYPERPARAMETERS']['link_state_dim'])])\n",
    "\n",
    "            # consolidates the path list to a list of len per path (182,1)\n",
    "            lens = tf.math.segment_sum(data=tf.ones_like(paths),\n",
    "                                       segment_ids=paths)\n",
    "\n",
    "            # Generate the aforementioned tensor [n_paths, max_len_path, dimension_link]\n",
    "            # maps the \n",
    "            link_inputs = tf.scatter_nd(ids, h_tild, shape)\n",
    "\n",
    "            # Define the RNN used for the message passing links to paths\n",
    "            gru_rnn = tf.keras.layers.RNN(self.path_update,\n",
    "                                          return_sequences=True,\n",
    "                                          return_state=True)\n",
    "\n",
    "            # First message passing: update the path_state\n",
    "            outputs, path_state = gru_rnn(inputs=link_inputs,\n",
    "                                          initial_state=path_state,\n",
    "                                          mask=tf.sequence_mask(lens))\n",
    "            print(outputs.shape,path_state.shape)\n",
    "\n",
    "            # For every link, gather and sum the sequence of hidden states of the paths that contain it\n",
    "            m = tf.gather_nd(outputs, ids)\n",
    "            print(m.shape)\n",
    "            m = tf.math.unsorted_segment_sum(m, links, f_['n_links'])\n",
    "\n",
    "            # Second message passing: update the link_state\n",
    "            # single sequence RNN\n",
    "            link_state, _ = self.link_update(m, [link_state])\n",
    "\n",
    "        # Call the readout ANN and return its predictions\n",
    "        r = self.readout(path_state, training=training)\n",
    "\n",
    "        return r"
   ]
  },
  {
   "cell_type": "code",
   "execution_count": 164,
   "id": "secondary-farming",
   "metadata": {},
   "outputs": [],
   "source": [
    "model = RouteNetModel(config)"
   ]
  },
  {
   "cell_type": "code",
   "execution_count": 165,
   "id": "macro-reach",
   "metadata": {},
   "outputs": [
    {
     "name": "stdout",
     "output_type": "stream",
     "text": [
      "(182, 3, 32) (182, 32)\n",
      "(390, 32)\n",
      "(182, 3, 32) (182, 32)\n",
      "(390, 32)\n",
      "(182, 3, 32) (182, 32)\n",
      "(390, 32)\n",
      "(182, 3, 32) (182, 32)\n",
      "(390, 32)\n",
      "(182, 3, 32) (182, 32)\n",
      "(390, 32)\n",
      "(182, 3, 32) (182, 32)\n",
      "(390, 32)\n",
      "(182, 3, 32) (182, 32)\n",
      "(390, 32)\n",
      "(182, 3, 32) (182, 32)\n",
      "(390, 32)\n"
     ]
    },
    {
     "data": {
      "text/plain": [
       "<tf.Tensor: shape=(182, 1), dtype=float32, numpy=\n",
       "array([[44.879337 ],\n",
       "       [13.564499 ],\n",
       "       [32.82257  ],\n",
       "       [63.465187 ],\n",
       "       [75.84155  ],\n",
       "       [47.759644 ],\n",
       "       [30.451538 ],\n",
       "       [32.81943  ],\n",
       "       [18.351482 ],\n",
       "       [13.085636 ],\n",
       "       [44.243713 ],\n",
       "       [64.99513  ],\n",
       "       [32.394806 ],\n",
       "       [20.360905 ],\n",
       "       [ 9.794849 ],\n",
       "       [14.984617 ],\n",
       "       [65.53087  ],\n",
       "       [79.69016  ],\n",
       "       [24.111595 ],\n",
       "       [19.991581 ],\n",
       "       [51.65772  ],\n",
       "       [16.426754 ],\n",
       "       [38.732372 ],\n",
       "       [16.533348 ],\n",
       "       [18.48492  ],\n",
       "       [55.664658 ],\n",
       "       [24.039871 ],\n",
       "       [72.943115 ],\n",
       "       [ 9.218047 ],\n",
       "       [23.818947 ],\n",
       "       [14.042505 ],\n",
       "       [38.31169  ],\n",
       "       [37.345036 ],\n",
       "       [70.50936  ],\n",
       "       [22.27504  ],\n",
       "       [80.99699  ],\n",
       "       [25.549118 ],\n",
       "       [35.28588  ],\n",
       "       [ 9.058372 ],\n",
       "       [15.0028   ],\n",
       "       [72.87516  ],\n",
       "       [26.749939 ],\n",
       "       [22.541492 ],\n",
       "       [50.80774  ],\n",
       "       [64.17939  ],\n",
       "       [33.580082 ],\n",
       "       [59.376595 ],\n",
       "       [43.721237 ],\n",
       "       [72.023506 ],\n",
       "       [31.015339 ],\n",
       "       [46.004654 ],\n",
       "       [39.847862 ],\n",
       "       [67.479706 ],\n",
       "       [81.02312  ],\n",
       "       [70.61395  ],\n",
       "       [68.84617  ],\n",
       "       [58.752113 ],\n",
       "       [79.349365 ],\n",
       "       [37.36261  ],\n",
       "       [59.33877  ],\n",
       "       [20.032215 ],\n",
       "       [33.91664  ],\n",
       "       [15.912006 ],\n",
       "       [24.74141  ],\n",
       "       [14.800334 ],\n",
       "       [74.204704 ],\n",
       "       [65.13138  ],\n",
       "       [62.24688  ],\n",
       "       [30.38786  ],\n",
       "       [44.09677  ],\n",
       "       [37.95353  ],\n",
       "       [ 9.248303 ],\n",
       "       [23.440178 ],\n",
       "       [81.20731  ],\n",
       "       [60.83093  ],\n",
       "       [56.5907   ],\n",
       "       [46.725304 ],\n",
       "       [31.698952 ],\n",
       "       [33.221714 ],\n",
       "       [23.42761  ],\n",
       "       [57.87513  ],\n",
       "       [46.563652 ],\n",
       "       [22.81747  ],\n",
       "       [72.814896 ],\n",
       "       [64.16431  ],\n",
       "       [52.223248 ],\n",
       "       [86.53603  ],\n",
       "       [19.55966  ],\n",
       "       [46.99221  ],\n",
       "       [47.799473 ],\n",
       "       [66.12782  ],\n",
       "       [66.587326 ],\n",
       "       [64.96074  ],\n",
       "       [ 7.7439923],\n",
       "       [16.458958 ],\n",
       "       [69.860886 ],\n",
       "       [60.187492 ],\n",
       "       [46.219856 ],\n",
       "       [49.34431  ],\n",
       "       [20.755573 ],\n",
       "       [78.79219  ],\n",
       "       [70.86007  ],\n",
       "       [57.605446 ],\n",
       "       [44.705803 ],\n",
       "       [59.68246  ],\n",
       "       [30.577532 ],\n",
       "       [37.836563 ],\n",
       "       [ 9.226783 ],\n",
       "       [19.346207 ],\n",
       "       [24.832804 ],\n",
       "       [15.551296 ],\n",
       "       [23.476791 ],\n",
       "       [78.07667  ],\n",
       "       [43.775112 ],\n",
       "       [16.913555 ],\n",
       "       [83.13097  ],\n",
       "       [10.953496 ],\n",
       "       [25.181065 ],\n",
       "       [59.848557 ],\n",
       "       [35.179836 ],\n",
       "       [72.18076  ],\n",
       "       [65.11325  ],\n",
       "       [16.551292 ],\n",
       "       [40.117607 ],\n",
       "       [26.556248 ],\n",
       "       [66.19055  ],\n",
       "       [40.97329  ],\n",
       "       [40.265564 ],\n",
       "       [12.367956 ],\n",
       "       [64.36628  ],\n",
       "       [70.818726 ],\n",
       "       [56.699036 ],\n",
       "       [40.1697   ],\n",
       "       [63.457108 ],\n",
       "       [28.36422  ],\n",
       "       [72.429    ],\n",
       "       [82.608826 ],\n",
       "       [23.99599  ],\n",
       "       [35.463516 ],\n",
       "       [21.565813 ],\n",
       "       [61.33703  ],\n",
       "       [13.41234  ],\n",
       "       [79.611115 ],\n",
       "       [50.076824 ],\n",
       "       [48.074444 ],\n",
       "       [55.13983  ],\n",
       "       [64.98987  ],\n",
       "       [47.656338 ],\n",
       "       [70.807495 ],\n",
       "       [40.90567  ],\n",
       "       [58.003338 ],\n",
       "       [73.08331  ],\n",
       "       [11.294949 ],\n",
       "       [63.375366 ],\n",
       "       [57.461327 ],\n",
       "       [58.710106 ],\n",
       "       [34.983894 ],\n",
       "       [54.53218  ],\n",
       "       [42.882156 ],\n",
       "       [46.259842 ],\n",
       "       [79.1373   ],\n",
       "       [48.40631  ],\n",
       "       [17.07137  ],\n",
       "       [14.420576 ],\n",
       "       [35.837784 ],\n",
       "       [73.41672  ],\n",
       "       [74.10102  ],\n",
       "       [73.71132  ],\n",
       "       [52.21099  ],\n",
       "       [63.096863 ],\n",
       "       [60.25862  ],\n",
       "       [ 9.13257  ],\n",
       "       [37.7313   ],\n",
       "       [15.495604 ],\n",
       "       [52.663216 ],\n",
       "       [ 9.795485 ],\n",
       "       [41.404667 ],\n",
       "       [70.32505  ],\n",
       "       [82.533005 ],\n",
       "       [28.70933  ],\n",
       "       [68.683914 ],\n",
       "       [31.886282 ]], dtype=float32)>"
      ]
     },
     "execution_count": 165,
     "metadata": {},
     "output_type": "execute_result"
    }
   ],
   "source": [
    "model.call(x)"
   ]
  },
  {
   "cell_type": "code",
   "execution_count": null,
   "id": "reflected-average",
   "metadata": {},
   "outputs": [],
   "source": []
  }
 ],
 "metadata": {
  "kernelspec": {
   "display_name": "Python 3",
   "language": "python",
   "name": "python3"
  },
  "language_info": {
   "codemirror_mode": {
    "name": "ipython",
    "version": 3
   },
   "file_extension": ".py",
   "mimetype": "text/x-python",
   "name": "python",
   "nbconvert_exporter": "python",
   "pygments_lexer": "ipython3",
   "version": "3.6.10"
  }
 },
 "nbformat": 4,
 "nbformat_minor": 5
}
