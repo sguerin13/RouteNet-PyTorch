{
 "cells": [
  {
   "cell_type": "code",
   "execution_count": 74,
   "id": "forward-craps",
   "metadata": {},
   "outputs": [],
   "source": [
    "import tensorflow as tf\n",
    "import numpy as np"
   ]
  },
  {
   "cell_type": "code",
   "execution_count": 2,
   "id": "visible-anaheim",
   "metadata": {},
   "outputs": [],
   "source": [
    "from read_dataset import generator\n",
    "import os"
   ]
  },
  {
   "cell_type": "code",
   "execution_count": 3,
   "id": "future-cisco",
   "metadata": {},
   "outputs": [],
   "source": [
    "tr_path = os.getcwd() + \"\\\\..\\\\data\\\\sample_data\\\\train\\\\\""
   ]
  },
  {
   "cell_type": "code",
   "execution_count": 4,
   "id": "earned-reach",
   "metadata": {},
   "outputs": [
    {
     "data": {
      "text/plain": [
       "'G:\\\\My Drive\\\\CLASSES\\\\WI21\\\\Project\\\\RouteNet-challenge2\\\\RouteNet-challenge\\\\code\\\\..\\\\data\\\\sample_data\\\\train\\\\'"
      ]
     },
     "execution_count": 4,
     "metadata": {},
     "output_type": "execute_result"
    }
   ],
   "source": [
    "tr_path"
   ]
  },
  {
   "cell_type": "code",
   "execution_count": 20,
   "id": "under-character",
   "metadata": {},
   "outputs": [],
   "source": [
    "from datanetAPI import DatanetAPI\n",
    "#https://github.com/knowledgedefinednetworking/datanetAPI/tree/challenge2020\n",
    "import networkx as nx\n",
    "\n",
    "tool = DatanetAPI(tr_path)\n",
    "it = iter(tool)\n",
    "for sample in it:\n",
    "    break"
   ]
  },
  {
   "cell_type": "code",
   "execution_count": null,
   "id": "labeled-brother",
   "metadata": {},
   "outputs": [],
   "source": []
  },
  {
   "cell_type": "code",
   "execution_count": 111,
   "id": "juvenile-assurance",
   "metadata": {},
   "outputs": [
    {
     "data": {
      "image/png": "[encoded data removed]",
      "text/plain": [
       "<Figure size 432x288 with 1 Axes>"
      ]
     },
     "metadata": {},
     "output_type": "display_data"
    }
   ],
   "source": [
    "network = sample.topology_object\n",
    "nx.draw_networkx(network)"
   ]
  },
  {
   "cell_type": "code",
   "execution_count": 95,
   "id": "streaming-corporation",
   "metadata": {},
   "outputs": [
    {
     "data": {
      "text/plain": [
       "(OutMultiEdgeView([(0, 1, 0), (0, 3, 0), (0, 2, 0), (1, 0, 0), (1, 2, 0), (1, 7, 0), (2, 0, 0), (2, 1, 0), (2, 5, 0), (3, 0, 0), (3, 4, 0), (3, 8, 0), (4, 3, 0), (4, 5, 0), (4, 6, 0), (5, 2, 0), (5, 4, 0), (5, 12, 0), (5, 13, 0), (6, 4, 0), (6, 7, 0), (7, 1, 0), (7, 6, 0), (7, 10, 0), (8, 3, 0), (8, 9, 0), (8, 11, 0), (9, 8, 0), (9, 10, 0), (9, 12, 0), (10, 7, 0), (10, 9, 0), (10, 11, 0), (10, 13, 0), (11, 8, 0), (11, 10, 0), (11, 12, 0), (12, 5, 0), (12, 9, 0), (12, 11, 0), (13, 5, 0), (13, 10, 0)]),\n",
       " 42)"
      ]
     },
     "execution_count": 95,
     "metadata": {},
     "output_type": "execute_result"
    }
   ],
   "source": [
    "network.edges, len(network.edges)"
   ]
  },
  {
   "cell_type": "code",
   "execution_count": 41,
   "id": "subsequent-geography",
   "metadata": {},
   "outputs": [
    {
     "name": "stdout",
     "output_type": "stream",
     "text": [
      "{'port': 0, 'weight': 1, 'bandwidth': 10000}\n",
      "{'port': 1, 'weight': 1, 'bandwidth': 10000}\n",
      "{'port': 2, 'weight': 1, 'bandwidth': 10000}\n",
      "{'port': 0, 'weight': 1, 'bandwidth': 10000}\n",
      "{'port': 1, 'weight': 1, 'bandwidth': 10000}\n",
      "{'port': 2, 'weight': 1, 'bandwidth': 10000}\n",
      "{'port': 0, 'weight': 1, 'bandwidth': 10000}\n",
      "{'port': 1, 'weight': 1, 'bandwidth': 10000}\n",
      "{'port': 2, 'weight': 1, 'bandwidth': 25000}\n",
      "{'port': 0, 'weight': 1, 'bandwidth': 10000}\n"
     ]
    }
   ],
   "source": [
    "i = 0\n",
    "for edge in network.edges:\n",
    "    print(network.edges[edge[0],edge[1],edge[2]])\n",
    "    i+=1\n",
    "    if i == 10:\n",
    "        break"
   ]
  },
  {
   "cell_type": "code",
   "execution_count": 69,
   "id": "diagnostic-impossible",
   "metadata": {},
   "outputs": [
    {
     "data": {
      "text/plain": [
       "{'levelsQoS': 3,\n",
       " 'schedulingPolicy': 'WFQ',\n",
       " 'schedulingWeights': '60,30,10',\n",
       " 'queueSizes': '32,32,32'}"
      ]
     },
     "execution_count": 69,
     "metadata": {},
     "output_type": "execute_result"
    }
   ],
   "source": [
    "network.nodes[0]"
   ]
  },
  {
   "cell_type": "code",
   "execution_count": 70,
   "id": "martial-skirt",
   "metadata": {},
   "outputs": [
    {
     "data": {
      "text/plain": [
       "AtlasView({0: {'port': 0, 'weight': 1, 'bandwidth': 10000}})"
      ]
     },
     "execution_count": 70,
     "metadata": {},
     "output_type": "execute_result"
    }
   ],
   "source": [
    "network[0][1]"
   ]
  },
  {
   "cell_type": "code",
   "execution_count": 71,
   "id": "coordinate-corruption",
   "metadata": {},
   "outputs": [
    {
     "name": "stdout",
     "output_type": "stream",
     "text": [
      "[list([0]) list([0, 1]) list([0, 2]) list([0, 3]) list([0, 3, 4])\n",
      " list([0, 2, 5]) list([0, 3, 4, 6]) list([0, 1, 7]) list([0, 3, 8])\n",
      " list([0, 3, 8, 9]) list([0, 1, 7, 10]) list([0, 3, 8, 11])\n",
      " list([0, 2, 5, 12]) list([0, 2, 5, 13])]\n",
      "[list([1, 0]) list([1]) list([1, 2]) list([1, 0, 3]) list([1, 0, 3, 4])\n",
      " list([1, 2, 5]) list([1, 7, 6]) list([1, 7]) list([1, 0, 3, 8])\n",
      " list([1, 7, 10, 9]) list([1, 7, 10]) list([1, 7, 10, 11])\n",
      " list([1, 2, 5, 12]) list([1, 7, 10, 13])]\n",
      "(14, 14)\n"
     ]
    }
   ],
   "source": [
    "# routing matrix tells you the path that needs to be taken for every source-dest node pair\n",
    "\n",
    "print(sample.get_routing_matrix()[0])\n",
    "print(sample.get_routing_matrix()[1])\n",
    "print(sample.get_routing_matrix().shape)\n"
   ]
  },
  {
   "cell_type": "code",
   "execution_count": 107,
   "id": "aboriginal-locator",
   "metadata": {},
   "outputs": [
    {
     "name": "stdout",
     "output_type": "stream",
     "text": [
      "(14, 14) (14, 13)\n",
      "(182,) [list([0, 1]) list([0, 2])] [7, 10, 9, 8]\n"
     ]
    }
   ],
   "source": [
    "routing = sample.get_routing_matrix()\n",
    "paths = routing[~np.eye(routing.shape[0], dtype=bool)].reshape(routing.shape[0], -1)\n",
    "print(routing.shape, paths.shape)\n",
    "paths = paths.flatten()\n",
    "print(paths.shape, paths[:2],paths[98])"
   ]
  },
  {
   "cell_type": "code",
   "execution_count": 149,
   "id": "assisted-ghost",
   "metadata": {},
   "outputs": [
    {
     "name": "stdout",
     "output_type": "stream",
     "text": [
      "[[None 10000 10000 10000 None None None None None None None None None\n",
      "  None]\n",
      " [10000 None 10000 None None None None 10000 None None None None None\n",
      "  None]\n",
      " [10000 10000 None None None 25000 None None None None None None None\n",
      "  None]\n",
      " [10000 None None None 25000 None None None 25000 None None None None\n",
      "  None]\n",
      " [None None None 25000 None 25000 10000 None None None None None None\n",
      "  None]\n",
      " [None None 25000 None 25000 None None None None None None None 10000\n",
      "  10000]\n",
      " [None None None None 10000 None None 10000 None None None None None None]\n",
      " [None 10000 None None None None 10000 None None None 25000 None None\n",
      "  None]\n",
      " [None None None 25000 None None None None None 10000 None 10000 None\n",
      "  None]\n",
      " [None None None None None None None None 10000 None 10000 None 10000\n",
      "  None]\n",
      " [None None None None None None None 25000 None 10000 None 10000 None\n",
      "  10000]\n",
      " [None None None None None None None None 10000 None 10000 None 10000\n",
      "  None]\n",
      " [None None None None None 10000 None None None 10000 None 10000 None\n",
      "  None]\n",
      " [None None None None None 10000 None None None None 10000 None None None]]\n"
     ]
    },
    {
     "data": {
      "text/plain": [
       "(42,\n",
       " 42,\n",
       " [1, 2, 3, 14, 16, 21, 28, 29, 33, 42],\n",
       " [10000, 10000, 10000, 10000, 10000, 10000, 10000, 10000, 25000, 10000])"
      ]
     },
     "execution_count": 149,
     "metadata": {},
     "output_type": "execute_result"
    }
   ],
   "source": [
    "cap_mat = np.full((network.number_of_nodes(), network.number_of_nodes()), fill_value=None)\n",
    "for node in range(network.number_of_nodes()):\n",
    "    for adj in network[node]:\n",
    "        cap_mat[node, adj] = network[node][adj][0]['bandwidth']\n",
    "\n",
    "print(cap_mat)\n",
    "# take the indexes of where there is capacity and turn into a list\n",
    "links = np.where(np.ravel(cap_mat) != None)[0].tolist()\n",
    "link_capacities = (np.ravel(cap_mat)[links]).tolist()\n",
    "len(links),len(link_capacities),links[:10],link_capacities[:10]"
   ]
  },
  {
   "cell_type": "code",
   "execution_count": 100,
   "id": "front-ethiopia",
   "metadata": {},
   "outputs": [],
   "source": [
    "\n",
    "nodes = len(routing)\n",
    "ids = list(range(len(links)))\n",
    "\n",
    "links_id = dict(zip(links, ids))\n",
    "path_ids = []\n",
    "for path in paths:                    # 182 lists of node sequences (src-> int -> .... -> dest)\n",
    "    new_path = [] \n",
    "    for i in range(0, len(path) - 1): # number of nodes in the specific src,dest path... minus 1\n",
    "        src = path[i]                 # break path into series of single hops (src,int1) (int1,int2) (int2,dst)\n",
    "        dst = path[i + 1]\n",
    "        new_path.append(links_id[src * nodes + dst])     # grabs the id of the link between each single hop (src,dest)\n",
    "    path_ids.append(new_path)                            # aggregates a list of links used in all paths, links can be\n",
    "                                                         # used more than once"
   ]
  },
  {
   "cell_type": "code",
   "execution_count": 110,
   "id": "entertaining-manual",
   "metadata": {},
   "outputs": [
    {
     "data": {
      "text/plain": [
       "(182, [23, 31, 27], [7, 10, 9, 8], ((7, 0), (10, 9), (9, 8)))"
      ]
     },
     "execution_count": 110,
     "metadata": {},
     "output_type": "execute_result"
    }
   ],
   "source": [
    "# convert paths from path described by nodes and turn into paths defined by links\n",
    "len(path_ids),path_ids[98],paths[98]"
   ]
  },
  {
   "cell_type": "code",
   "execution_count": 129,
   "id": "fresh-pastor",
   "metadata": {},
   "outputs": [
    {
     "data": {
      "text/plain": [
       "[[0], [1], [2], [2, 10]]"
      ]
     },
     "execution_count": 129,
     "metadata": {},
     "output_type": "execute_result"
    }
   ],
   "source": [
    "path_ids[:4]"
   ]
  },
  {
   "cell_type": "code",
   "execution_count": 115,
   "id": "nearby-pickup",
   "metadata": {},
   "outputs": [],
   "source": [
    "link_indices = []\n",
    "path_indices = []\n",
    "sequ_indices = []\n",
    "segment = 0                                         \n",
    "for p in path_ids:\n",
    "    link_indices += p\n",
    "    path_indices += len(p) * [segment]\n",
    "    sequ_indices += list(range(len(p)))\n",
    "    segment += 1"
   ]
  },
  {
   "cell_type": "code",
   "execution_count": 148,
   "id": "worldwide-finger",
   "metadata": {},
   "outputs": [
    {
     "data": {
      "text/plain": [
       "([0, 1, 2, 2, 10], 390, [0, 1, 2, 3, 3], [0, 0, 0, 0, 1])"
      ]
     },
     "execution_count": 148,
     "metadata": {},
     "output_type": "execute_result"
    }
   ],
   "source": [
    "# take path list and flatten into single individual list\n",
    "# list of all links used in all paths, list of which path each link belongs to, which number each link is as part of its path\n",
    "link_indices[:5],path_indices[:5],sequ_indices[:5]"
   ]
  },
  {
   "cell_type": "code",
   "execution_count": 150,
   "id": "baking-repeat",
   "metadata": {},
   "outputs": [
    {
     "data": {
      "text/plain": [
       "(390, 390, 390)"
      ]
     },
     "execution_count": 150,
     "metadata": {},
     "output_type": "execute_result"
    }
   ],
   "source": [
    "len(link_indices),len(path_indices),len(sequ_indices)"
   ]
  },
  {
   "cell_type": "code",
   "execution_count": 146,
   "id": "dried-director",
   "metadata": {},
   "outputs": [
    {
     "data": {
      "text/plain": [
       "{'AggInfo': {'AvgBw': 350.733,\n",
       "  'PktsGen': 0.353085,\n",
       "  'TotalPktsGen': 10927.980749999999},\n",
       " 'Flows': [{'TimeDist': <TimeDist.EXPONENTIAL_T: 0>,\n",
       "   'TimeDistParams': {'EqLambda': 354.408,\n",
       "    'AvgPktsLambda': 0.354408,\n",
       "    'ExpMaxFactor': 10.0},\n",
       "   'SizeDist': <SizeDist.BINOMIAL_S: 2>,\n",
       "   'SizeDistParams': {'AvgPktSize': 1000.0,\n",
       "    'PktSize1': 300.0,\n",
       "    'PktSize2': 1700.0},\n",
       "   'AvgBw': 350.733,\n",
       "   'PktsGen': 0.353085,\n",
       "   'TotalPktsGen': 10927.980749999999,\n",
       "   'ToS': 2.0}]}"
      ]
     },
     "execution_count": 146,
     "metadata": {},
     "output_type": "execute_result"
    }
   ],
   "source": [
    "traffic = sample.get_traffic_matrix()\n",
    "traffic = traffic[~np.eye(traffic.shape[0], dtype=bool)].reshape(traffic.shape[0], -1)\n",
    "traffic.shape\n",
    "traffic[0,0]"
   ]
  },
  {
   "cell_type": "code",
   "execution_count": 147,
   "id": "obvious-dance",
   "metadata": {},
   "outputs": [
    {
     "name": "stdout",
     "output_type": "stream",
     "text": [
      "(14, 13)\n"
     ]
    },
    {
     "data": {
      "text/plain": [
       "{'AggInfo': {'PktsDrop': 0.0,\n",
       "  'AvgDelay': 0.112495,\n",
       "  'AvgLnDelay': -2.52386,\n",
       "  'p10': 0.03,\n",
       "  'p20': 0.03,\n",
       "  'p50': 0.169999,\n",
       "  'p80': 0.169999,\n",
       "  'p90': 0.169999,\n",
       "  'Jitter': 0.006385},\n",
       " 'Flows': [{'PktsDrop': 0.0,\n",
       "   'AvgDelay': 0.112495,\n",
       "   'AvgLnDelay': -2.52386,\n",
       "   'p10': 0.03,\n",
       "   'p20': 0.03,\n",
       "   'p50': 0.169999,\n",
       "   'p80': 0.169999,\n",
       "   'p90': 0.169999,\n",
       "   'Jitter': 0.006385}]}"
      ]
     },
     "execution_count": 147,
     "metadata": {},
     "output_type": "execute_result"
    }
   ],
   "source": [
    "result = sample.get_performance_matrix()\n",
    "result = result[~np.eye(result.shape[0], dtype=bool)].reshape(result.shape[0], -1)\n",
    "print(result.shape)\n",
    "\n",
    "sample.get_performance_matrix()[0,1]"
   ]
  },
  {
   "cell_type": "code",
   "execution_count": 154,
   "id": "limited-pierce",
   "metadata": {},
   "outputs": [],
   "source": [
    "avg_bw = []\n",
    "pkts_gen = []\n",
    "delay = []\n",
    "########## critical information here #############\n",
    "for i in range(result.shape[0]):\n",
    "    for j in range(result.shape[1]):\n",
    "        flow = traffic[i, j]['Flows'][0]\n",
    "        avg_bw.append(flow['AvgBw'])\n",
    "        pkts_gen.append(flow['PktsGen'])\n",
    "        d = result[i, j]['AggInfo']['AvgDelay']\n",
    "        delay.append(d)\n",
    "\n",
    "n_paths = len(path_ids)\n",
    "n_links = max(max(path_ids)) + 1"
   ]
  },
  {
   "cell_type": "code",
   "execution_count": 155,
   "id": "adult-central",
   "metadata": {},
   "outputs": [
    {
     "data": {
      "text/plain": [
       "(42, 182)"
      ]
     },
     "execution_count": 155,
     "metadata": {},
     "output_type": "execute_result"
    }
   ],
   "source": [
    "n_paths = len(path_ids)\n",
    "n_links = max(max(path_ids)) + 1\n",
    "n_links,n_paths"
   ]
  },
  {
   "cell_type": "code",
   "execution_count": 157,
   "id": "swiss-representative",
   "metadata": {},
   "outputs": [
    {
     "data": {
      "text/plain": [
       "182"
      ]
     },
     "execution_count": 157,
     "metadata": {},
     "output_type": "execute_result"
    }
   ],
   "source": [
    "len(avg_bw)"
   ]
  },
  {
   "cell_type": "code",
   "execution_count": 5,
   "id": "modified-delight",
   "metadata": {},
   "outputs": [
    {
     "name": "stdout",
     "output_type": "stream",
     "text": [
      "[[None 10000 10000 10000 None None None None None None None None None\n",
      "  None]\n",
      " [10000 None 10000 None None None None 10000 None None None None None\n",
      "  None]\n",
      " [10000 10000 None None None 25000 None None None None None None None\n",
      "  None]\n",
      " [10000 None None None 25000 None None None 25000 None None None None\n",
      "  None]\n",
      " [None None None 25000 None 25000 10000 None None None None None None\n",
      "  None]\n",
      " [None None 25000 None 25000 None None None None None None None 10000\n",
      "  10000]\n",
      " [None None None None 10000 None None 10000 None None None None None None]\n",
      " [None 10000 None None None None 10000 None None None 25000 None None\n",
      "  None]\n",
      " [None None None 25000 None None None None None 10000 None 10000 None\n",
      "  None]\n",
      " [None None None None None None None None 10000 None 10000 None 10000\n",
      "  None]\n",
      " [None None None None None None None 25000 None 10000 None 10000 None\n",
      "  10000]\n",
      " [None None None None None None None None 10000 None 10000 None 10000\n",
      "  None]\n",
      " [None None None None None 10000 None None None 10000 None 10000 None\n",
      "  None]\n",
      " [None None None None None 10000 None None None None 10000 None None None]]\n",
      "(14, 14)\n"
     ]
    }
   ],
   "source": [
    "for batch, delay in generator(tr_path):\n",
    "    x = batch\n",
    "    y = delay\n",
    "    break"
   ]
  },
  {
   "cell_type": "code",
   "execution_count": 7,
   "id": "authorized-mention",
   "metadata": {},
   "outputs": [
    {
     "data": {
      "text/plain": [
       "182"
      ]
     },
     "execution_count": 7,
     "metadata": {},
     "output_type": "execute_result"
    }
   ],
   "source": [
    "# in this sample the capacity matrix is 14 x 14 and they remove the entries along the diagonal and then they flatten it"
   ]
  },
  {
   "cell_type": "code",
   "execution_count": 8,
   "id": "ultimate-threat",
   "metadata": {},
   "outputs": [
    {
     "data": {
      "text/plain": [
       "dict_keys(['bandwith', 'packets', 'link_capacity', 'links', 'paths', 'sequences', 'n_links', 'n_paths'])"
      ]
     },
     "execution_count": 8,
     "metadata": {},
     "output_type": "execute_result"
    }
   ],
   "source": [
    "x.keys()"
   ]
  },
  {
   "cell_type": "code",
   "execution_count": 13,
   "id": "small-attitude",
   "metadata": {},
   "outputs": [
    {
     "data": {
      "text/plain": [
       "(list,\n",
       " 182,\n",
       " [350.733,\n",
       "  111.101,\n",
       "  258.2,\n",
       "  493.234,\n",
       "  588.1260000000001,\n",
       "  372.817,\n",
       "  240.12900000000002,\n",
       "  258.277,\n",
       "  147.78900000000002,\n",
       "  108.129])"
      ]
     },
     "execution_count": 13,
     "metadata": {},
     "output_type": "execute_result"
    }
   ],
   "source": [
    "type(x['bandwith']),len(x['bandwith']),x['bandwith'][:10]"
   ]
  },
  {
   "cell_type": "code",
   "execution_count": 14,
   "id": "dental-standing",
   "metadata": {},
   "outputs": [
    {
     "data": {
      "text/plain": [
       "(list,\n",
       " 182,\n",
       " [0.353085,\n",
       "  0.111599,\n",
       "  0.257996,\n",
       "  0.493957,\n",
       "  0.583489,\n",
       "  0.374378,\n",
       "  0.241486,\n",
       "  0.256445,\n",
       "  0.148852,\n",
       "  0.108174])"
      ]
     },
     "execution_count": 14,
     "metadata": {},
     "output_type": "execute_result"
    }
   ],
   "source": [
    "type(x['packets']),len(x['packets']),x['packets'][:10]"
   ]
  },
  {
   "cell_type": "code",
   "execution_count": 15,
   "id": "elegant-socket",
   "metadata": {},
   "outputs": [
    {
     "data": {
      "text/plain": [
       "(list,\n",
       " 42,\n",
       " [10000, 10000, 10000, 10000, 10000, 10000, 10000, 10000, 25000, 10000])"
      ]
     },
     "execution_count": 15,
     "metadata": {},
     "output_type": "execute_result"
    }
   ],
   "source": [
    "type(x['link_capacity']),len(x['link_capacity']),x['link_capacity'][:10]"
   ]
  },
  {
   "cell_type": "code",
   "execution_count": 68,
   "id": "surface-airline",
   "metadata": {
    "scrolled": false
   },
   "outputs": [
    {
     "data": {
      "text/plain": [
       "(list, 390, [0, 1, 2, 2, 10, 1, 8, 2, 10, 14])"
      ]
     },
     "execution_count": 68,
     "metadata": {},
     "output_type": "execute_result"
    }
   ],
   "source": [
    "type(x['links']),len(x['links']),x['links'][:10]"
   ]
  },
  {
   "cell_type": "code",
   "execution_count": 37,
   "id": "adopted-roots",
   "metadata": {},
   "outputs": [
    {
     "data": {
      "text/plain": [
       "(182, 390)"
      ]
     },
     "execution_count": 37,
     "metadata": {},
     "output_type": "execute_result"
    }
   ],
   "source": [
    "x['n_paths'],len(x['paths'])"
   ]
  },
  {
   "cell_type": "code",
   "execution_count": 72,
   "id": "liquid-england",
   "metadata": {
    "collapsed": true
   },
   "outputs": [
    {
     "data": {
      "text/plain": [
       "(182,\n",
       " [0.112495,\n",
       "  0.117688,\n",
       "  0.130481,\n",
       "  0.177744,\n",
       "  0.165814,\n",
       "  0.323846,\n",
       "  0.238618,\n",
       "  0.194655,\n",
       "  0.301718,\n",
       "  0.288165])"
      ]
     },
     "execution_count": 72,
     "metadata": {},
     "output_type": "execute_result"
    }
   ],
   "source": [
    "len(y),y[:10]"
   ]
  },
  {
   "cell_type": "code",
   "execution_count": null,
   "id": "terminal-boulder",
   "metadata": {},
   "outputs": [],
   "source": []
  }
 ],
 "metadata": {
  "kernelspec": {
   "display_name": "Python 3",
   "language": "python",
   "name": "python3"
  },
  "language_info": {
   "codemirror_mode": {
    "name": "ipython",
    "version": 3
   },
   "file_extension": ".py",
   "mimetype": "text/x-python",
   "name": "python",
   "nbconvert_exporter": "python",
   "pygments_lexer": "ipython3",
   "version": "3.6.10"
  }
 },
 "nbformat": 4,
 "nbformat_minor": 5
}
