{
 "cells": [
  {
   "cell_type": "markdown",
   "id": "4dcbc7a9",
   "metadata": {},
   "source": [
    "### Understanding the torch.Gather Functionality"
   ]
  },
  {
   "cell_type": "markdown",
   "id": "fb39b3ab",
   "metadata": {},
   "source": [
    "Basic Functionality:"
   ]
  },
  {
   "cell_type": "code",
   "execution_count": 44,
   "id": "916a5b42",
   "metadata": {},
   "outputs": [
    {
     "data": {
      "text/plain": [
       "tensor([[2., 2.],\n",
       "        [1., 1.]])"
      ]
     },
     "execution_count": 44,
     "metadata": {},
     "output_type": "execute_result"
    }
   ],
   "source": [
    "import torch\n",
    "\n",
    "'''\n",
    "\n",
    "out[i][j] = input[index[i][j]][j]  # if dim == 0\n",
    "out[i][j] = input[i][index[i][j]]  # if dim == 1\n",
    "\n",
    "'''\n",
    "\n",
    "indexes = torch.Tensor([[1,1],\n",
    "                        [0,0]])\n",
    "tensor = torch.Tensor([[1,1],\n",
    "                       [2,2]]) # size n_link x 2\n",
    "\n",
    "\n",
    "torch.gather(tensor, 0, indexes.long())\n",
    "\n"
   ]
  },
  {
   "cell_type": "markdown",
   "id": "8dc1d86a",
   "metadata": {},
   "source": [
    "If the dimensions between the tensors aren't exact - PyTorch drops the undefined columns in the output tensor, it still pulls from all entries of the input tensor\n",
    "\n"
   ]
  },
  {
   "cell_type": "code",
   "execution_count": 51,
   "id": "8e26d2db",
   "metadata": {},
   "outputs": [
    {
     "name": "stdout",
     "output_type": "stream",
     "text": [
      "tensor([[3.],\n",
      "        [1.]])\n",
      "tensor([[2.],\n",
      "        [3.]])\n"
     ]
    }
   ],
   "source": [
    "indexes = torch.Tensor([[1],\n",
    "                        [0]])\n",
    "tensor = torch.Tensor([[1,2],\n",
    "                       [3,4]]) \n",
    "\n",
    "''' \n",
    "If doing lookup on dim = 0\n",
    " ___                                   ___\n",
    "|                                         |\n",
    "|  T[indexes[0,0],0] , T[indexes[0,1],1]  |\n",
    "|                                         |\n",
    "|  T[indexes[1,0],0] , T[indexes[1,1],1]  |\n",
    "|___                                   ___|\n",
    "\n",
    "The last column is not defined in the index, so it is ignored\n",
    "\n",
    "'''\n",
    "\n",
    "print(torch.gather(tensor, 0, indexes.long()))\n",
    "print(torch.gather(tensor, 1, indexes.long()))"
   ]
  },
  {
   "cell_type": "markdown",
   "id": "visible-anaheim",
   "metadata": {},
   "source": [
    "### For the model implementation\n",
    "\n",
    "The input tensor (base) is a the link hidden state matrix.\n",
    "The link Ids list is the flattened list of the paths which are defined by the links that make up the path\n",
    "- e.g. [0,1,1,2,3,...]\n",
    "\n",
    "We want to map the state array from to a state of links on paths array : [s_0,s_1,s_1,s_2,s_3]\n",
    "\n",
    "Below is how we accomplish that"
   ]
  },
  {
   "cell_type": "code",
   "execution_count": 52,
   "id": "future-cisco",
   "metadata": {},
   "outputs": [],
   "source": [
    "base = torch.zeros(4,6)\n",
    "base[:,0] = torch.Tensor([1,2,2,4])"
   ]
  },
  {
   "cell_type": "code",
   "execution_count": 53,
   "id": "earned-reach",
   "metadata": {},
   "outputs": [],
   "source": [
    "link_ids = torch.tensor([[0,0,0,0,0,0],\n",
    "                         [3,3,3,3,3,3],\n",
    "                         [2,2,2,2,2,2],\n",
    "                         [1,1,1,1,1,1]])"
   ]
  },
  {
   "cell_type": "code",
   "execution_count": 54,
   "id": "14f63782",
   "metadata": {},
   "outputs": [
    {
     "data": {
      "text/plain": [
       "tensor([[1., 0., 0., 0., 0., 0.],\n",
       "        [4., 0., 0., 0., 0., 0.],\n",
       "        [2., 0., 0., 0., 0., 0.],\n",
       "        [2., 0., 0., 0., 0., 0.]])"
      ]
     },
     "execution_count": 54,
     "metadata": {},
     "output_type": "execute_result"
    }
   ],
   "source": [
    "torch.gather(base,0,link_ids)"
   ]
  },
  {
   "cell_type": "markdown",
   "id": "556880ac",
   "metadata": {},
   "source": [
    "### Index Put"
   ]
  },
  {
   "cell_type": "code",
   "execution_count": 66,
   "id": "e429ad84",
   "metadata": {},
   "outputs": [
    {
     "name": "stdout",
     "output_type": "stream",
     "text": [
      "tensor([[1., 0., 0., 0., 0., 0.],\n",
      "        [2., 0., 0., 0., 0., 0.],\n",
      "        [3., 0., 0., 0., 0., 0.],\n",
      "        [2., 0., 0., 0., 0., 0.]])\n",
      "tensor([[[1., 0., 0., 0., 0., 0.],\n",
      "         [2., 0., 0., 0., 0., 0.]],\n",
      "\n",
      "        [[3., 0., 0., 0., 0., 0.],\n",
      "         [2., 0., 0., 0., 0., 0.]]]) torch.Size([2, 2, 6])\n"
     ]
    }
   ],
   "source": [
    "base = torch.zeros(3,6)\n",
    "base[:,0] = torch.Tensor([1,2,3])\n",
    "link_ids = torch.tensor([[0,0,0,0,0,0],\n",
    "                         [1,1,1,1,1,1],\n",
    "                         [2,2,2,2,2,2],\n",
    "                         [1,1,1,1,1,1]])\n",
    "\n",
    "state_array = torch.gather(base,0,link_ids)\n",
    "print(state_array)\n",
    "\n",
    "p_id = torch.Tensor([0,0,1,1]).long()\n",
    "s_id = torch.Tensor([0,1,0,1]).long()\n",
    "\n",
    "path_array = torch.zeros(2,2,6)\n",
    "path_array.index_put_([p_id,s_id],state_array)\n"
   ]
  },
  {
   "cell_type": "code",
   "execution_count": 65,
   "id": "973dea29",
   "metadata": {},
   "outputs": [
    {
     "name": "stdout",
     "output_type": "stream",
     "text": [
      "[tensor([0, 0, 1, 1]), tensor([0, 1, 0, 1])]\n"
     ]
    }
   ],
   "source": [
    "print([p_id,s_id])"
   ]
  }
 ],
 "metadata": {
  "kernelspec": {
   "display_name": "Python 3",
   "language": "python",
   "name": "python3"
  },
  "language_info": {
   "codemirror_mode": {
    "name": "ipython",
    "version": 3
   },
   "file_extension": ".py",
   "mimetype": "text/x-python",
   "name": "python",
   "nbconvert_exporter": "python",
   "pygments_lexer": "ipython3",
   "version": "3.7.10"
  }
 },
 "nbformat": 4,
 "nbformat_minor": 5
}
